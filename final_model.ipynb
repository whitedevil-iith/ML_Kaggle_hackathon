{
  "nbformat": 4,
  "nbformat_minor": 0,
  "metadata": {
    "colab": {
      "provenance": []
    },
    "kernelspec": {
      "name": "python3",
      "display_name": "Python 3"
    },
    "language_info": {
      "name": "python"
    }
  },
  "cells": [
    {
      "cell_type": "code",
      "execution_count": 33,
      "metadata": {
        "colab": {
          "base_uri": "https://localhost:8080/"
        },
        "id": "Fa2R9ncsxDR0",
        "outputId": "dac07099-2fb1-42e3-ed3b-7bfcd81573f9"
      },
      "outputs": [
        {
          "output_type": "stream",
          "name": "stdout",
          "text": [
            "Train Data:\n",
            "      UID  AgriculturalPostalZone  AgricultureZoningCode  \\\n",
            "0   12998                  291674                    0.0   \n",
            "1   20860                  164397                   28.0   \n",
            "2   75725                  616532                    0.0   \n",
            "3  106521                  942111                   43.0   \n",
            "4   99467                  475557                   38.0   \n",
            "\n",
            "   CropFieldConfiguration  CropSpeciesVariety  CultivatedAndWildArea  \\\n",
            "0                     NaN                 3.0                    NaN   \n",
            "1                     NaN                 4.0                    NaN   \n",
            "2                     NaN                 2.0                    NaN   \n",
            "3                     NaN                 7.0                    NaN   \n",
            "4                     NaN                 3.0                    NaN   \n",
            "\n",
            "   CultivatedAreaSqft1  DistrictId  FarmClassification  FarmEquipmentArea  \\\n",
            "0               1136.0         1.0                 NaN                NaN   \n",
            "1               2083.0         1.0                 NaN                NaN   \n",
            "2                922.0         1.0                 NaN                NaN   \n",
            "3                  NaN         1.0                 NaN                NaN   \n",
            "4               2225.0         3.0                 NaN                0.0   \n",
            "\n",
            "   ...  TotalTaxAssessed  TotalValue  TownId  TypeOfIrrigationSystem  \\\n",
            "0  ...          8636.716    456255.6   118.0                     NaN   \n",
            "1  ...         18464.292    996887.6    24.0                     1.0   \n",
            "2  ...         15594.568   1043780.0     9.0                     1.0   \n",
            "3  ...          8494.618    435734.8   114.0                     NaN   \n",
            "4  ...         13517.284    885400.0     6.0                     NaN   \n",
            "\n",
            "   UndergroundStorageSqft  ValuationYear  WaterAccessPoints  \\\n",
            "0                     NaN         2018.0                2.0   \n",
            "1                     NaN         2018.0                3.0   \n",
            "2                     NaN         2018.0                1.0   \n",
            "3                     NaN         2020.0                3.0   \n",
            "4                     NaN         2020.0                4.0   \n",
            "\n",
            "   WaterAccessPointsCalc  WaterReservoirCount  Target  \n",
            "0                    2.0                  NaN    high  \n",
            "1                    3.0                  1.0  medium  \n",
            "2                    1.0                  NaN  medium  \n",
            "3                    3.0                  NaN     low  \n",
            "4                    4.0                  NaN  medium  \n",
            "\n",
            "[5 rows x 58 columns]\n",
            "\n",
            "Test Data:\n",
            "      UID  AgriculturalPostalZone  AgricultureZoningCode  \\\n",
            "0  130000                  475712                    0.0   \n",
            "1  129101                  101762                   46.0   \n",
            "2  147876                  309344                   19.0   \n",
            "3  122624                  689775                   19.0   \n",
            "4  159920                  445333                   20.0   \n",
            "\n",
            "   CropFieldConfiguration  CropSpeciesVariety  CultivatedAndWildArea  \\\n",
            "0                     NaN                 5.0                    NaN   \n",
            "1                     NaN                 3.0                    NaN   \n",
            "2                     NaN                 2.0                    NaN   \n",
            "3                     NaN                 3.0                    NaN   \n",
            "4                     NaN                 1.0                    NaN   \n",
            "\n",
            "   CultivatedAreaSqft1  DistrictId  FarmClassification  FarmEquipmentArea  \\\n",
            "0               2870.0         1.0                 NaN                NaN   \n",
            "1               1291.0         3.0                 NaN              504.0   \n",
            "2               1074.0         1.0                 NaN                NaN   \n",
            "3               1595.0         1.0                 NaN                NaN   \n",
            "4                768.0         2.0                 NaN                0.0   \n",
            "\n",
            "   ...  TotalReservoirSize  TotalTaxAssessed  TotalValue  TownId  \\\n",
            "0  ...                 NaN          9540.432    319373.4    52.0   \n",
            "1  ...                 NaN         11064.284    805200.0    47.0   \n",
            "2  ...                 NaN          5789.762    305867.2    14.0   \n",
            "3  ...                 NaN          9440.486    524597.8     NaN   \n",
            "4  ...                 NaN          8384.640    692973.6    10.0   \n",
            "\n",
            "   TypeOfIrrigationSystem  UndergroundStorageSqft  ValuationYear  \\\n",
            "0                     1.0                     NaN         2020.0   \n",
            "1                     NaN                     NaN         2020.0   \n",
            "2                     NaN                     NaN         2020.0   \n",
            "3                     1.0                     NaN         2020.0   \n",
            "4                     NaN                     NaN         2020.0   \n",
            "\n",
            "   WaterAccessPoints  WaterAccessPointsCalc  WaterReservoirCount  \n",
            "0                3.0                    3.0                  NaN  \n",
            "1                2.0                    2.0                  NaN  \n",
            "2                2.0                    2.0                  1.0  \n",
            "3                2.0                    2.0                  NaN  \n",
            "4                1.0                    1.0                  NaN  \n",
            "\n",
            "[5 rows x 57 columns]\n"
          ]
        }
      ],
      "source": [
        "import pandas as pd\n",
        "\n",
        "# Load the train and test datasets\n",
        "train_data = pd.read_csv('train.csv')\n",
        "test_data = pd.read_csv('test.csv')\n",
        "\n",
        "# Display the first few rows of each dataset to confirm loading\n",
        "print(\"Train Data:\")\n",
        "print(train_data.head())\n",
        "print(\"\\nTest Data:\")\n",
        "print(test_data.head())"
      ]
    },
    {
      "cell_type": "code",
      "source": [
        "train_data['DistrictId'].fillna(train_data['NationalRegionCode'],inplace = True)\n",
        "test_data['DistrictId'].fillna(test_data['NationalRegionCode'],inplace = True)\n"
      ],
      "metadata": {
        "colab": {
          "base_uri": "https://localhost:8080/"
        },
        "id": "WsP-R7vTDGsZ",
        "outputId": "35375316-29ea-4058-c99a-8a3d0183add9"
      },
      "execution_count": 34,
      "outputs": [
        {
          "output_type": "stream",
          "name": "stderr",
          "text": [
            "<ipython-input-34-17d0a21adf5c>:1: FutureWarning: A value is trying to be set on a copy of a DataFrame or Series through chained assignment using an inplace method.\n",
            "The behavior will change in pandas 3.0. This inplace method will never work because the intermediate object on which we are setting values always behaves as a copy.\n",
            "\n",
            "For example, when doing 'df[col].method(value, inplace=True)', try using 'df.method({col: value}, inplace=True)' or df[col] = df[col].method(value) instead, to perform the operation inplace on the original object.\n",
            "\n",
            "\n",
            "  train_data['DistrictId'].fillna(train_data['NationalRegionCode'],inplace = True)\n",
            "<ipython-input-34-17d0a21adf5c>:2: FutureWarning: A value is trying to be set on a copy of a DataFrame or Series through chained assignment using an inplace method.\n",
            "The behavior will change in pandas 3.0. This inplace method will never work because the intermediate object on which we are setting values always behaves as a copy.\n",
            "\n",
            "For example, when doing 'df[col].method(value, inplace=True)', try using 'df.method({col: value}, inplace=True)' or df[col] = df[col].method(value) instead, to perform the operation inplace on the original object.\n",
            "\n",
            "\n",
            "  test_data['DistrictId'].fillna(test_data['NationalRegionCode'],inplace = True)\n"
          ]
        }
      ]
    },
    {
      "cell_type": "code",
      "source": [
        "def code(ag_id):\n",
        "  if (ag_id < 20 or (ag_id > 26 and ag_id < 38) or (ag_id>41 and ag_id<46)):\n",
        "    return 1\n",
        "  elif ag_id > 19 and ag_id < 27:\n",
        "    return 2\n",
        "  else:\n",
        "    return 3\n",
        "\n",
        "train_data['DistrictId'] = train_data['DistrictId'].fillna(train_data['AgricultureZoningCode'].apply(code))\n",
        "test_data['DistrictId'] = test_data['DistrictId'].fillna(test_data['AgricultureZoningCode'].apply(code))"
      ],
      "metadata": {
        "id": "g0Xj74kkDjjY"
      },
      "execution_count": 35,
      "outputs": []
    },
    {
      "cell_type": "code",
      "source": [
        "train_data = train_data.drop(['NationalRegionCode'], axis = 1)\n",
        "test_data = test_data.drop(['NationalRegionCode'], axis = 1)"
      ],
      "metadata": {
        "id": "OUDET8owEP6P"
      },
      "execution_count": 36,
      "outputs": []
    },
    {
      "cell_type": "code",
      "source": [
        "# Map 'Target' column to numerical values\n",
        "target_mapping = {'low': 0, 'medium': 1, 'high': 2}\n",
        "train_data['Target'] = train_data['Target'].map(target_mapping)\n",
        "\n",
        "# Check the first few rows of train_data to confirm changes\n",
        "print(\"Updated Target column:\")\n",
        "print(train_data[['Target']].head())\n",
        "\n",
        "# Check data types to ensure correct formatting\n",
        "print(\"\\nData types in train data:\")\n",
        "print(train_data.dtypes)\n"
      ],
      "metadata": {
        "colab": {
          "base_uri": "https://localhost:8080/"
        },
        "id": "UxRqmiupxL6c",
        "outputId": "3929e695-ea04-4cb0-8bf6-c314941f5030"
      },
      "execution_count": 37,
      "outputs": [
        {
          "output_type": "stream",
          "name": "stdout",
          "text": [
            "Updated Target column:\n",
            "   Target\n",
            "0       2\n",
            "1       1\n",
            "2       1\n",
            "3       0\n",
            "4       1\n",
            "\n",
            "Data types in train data:\n",
            "UID                               int64\n",
            "AgriculturalPostalZone            int64\n",
            "AgricultureZoningCode           float64\n",
            "CropFieldConfiguration          float64\n",
            "CropSpeciesVariety              float64\n",
            "CultivatedAndWildArea           float64\n",
            "CultivatedAreaSqft1             float64\n",
            "DistrictId                      float64\n",
            "FarmClassification              float64\n",
            "FarmEquipmentArea               float64\n",
            "FarmShedAreaSqft                float64\n",
            "FarmVehicleCount                float64\n",
            "FarmingCommunityId              float64\n",
            "FarmingUnitCount                float64\n",
            "FieldConstructionType           float64\n",
            "FieldEstablishedYear            float64\n",
            "FieldShadeCover                 float64\n",
            "FieldSizeSqft                   float64\n",
            "FieldZoneLevel                  float64\n",
            "HarvestProcessingType           float64\n",
            "HarvestStorageSqft              float64\n",
            "HasGreenHouse                   float64\n",
            "HasPestControl                  float64\n",
            "LandUsageType                   float64\n",
            "Latitude                        float64\n",
            "Longitude                       float64\n",
            "MainIrrigationSystemCount       float64\n",
            "NaturalLakePresence             float64\n",
            "NumberGreenHouses               float64\n",
            "NumberOfFarmingZones            float64\n",
            "OtherZoningCode                 float64\n",
            "PartialIrrigationSystemCount    float64\n",
            "PerimeterGuardPlantsArea        float64\n",
            "PrimaryCropAreaSqft             float64\n",
            "PrimaryCropAreaSqft2            float64\n",
            "RawLocationId                   float64\n",
            "ReservoirType                   float64\n",
            "ReservoirWithFilter             float64\n",
            "SoilFertilityType               float64\n",
            "StorageAndFacilityCount         float64\n",
            "TaxAgrarianValue                float64\n",
            "TaxLandValue                    float64\n",
            "TaxOverdueStatus                float64\n",
            "TaxOverdueYear                  float64\n",
            "TotalAreaSqft                   float64\n",
            "TotalCultivatedAreaSqft         float64\n",
            "TotalReservoirSize              float64\n",
            "TotalTaxAssessed                float64\n",
            "TotalValue                      float64\n",
            "TownId                          float64\n",
            "TypeOfIrrigationSystem          float64\n",
            "UndergroundStorageSqft          float64\n",
            "ValuationYear                   float64\n",
            "WaterAccessPoints               float64\n",
            "WaterAccessPointsCalc           float64\n",
            "WaterReservoirCount             float64\n",
            "Target                            int64\n",
            "dtype: object\n"
          ]
        }
      ]
    },
    {
      "cell_type": "code",
      "source": [
        "def drop_columns_with_missing_values(data, threshold=0.11):\n",
        "    # Calculate missing values percentage for each column\n",
        "    missing_percentage = data.isnull().mean()\n",
        "    # Identify columns to drop (those with missing values above the threshold)\n",
        "    columns_to_drop = missing_percentage[missing_percentage > threshold].index\n",
        "    # Drop the identified columns\n",
        "    return columns_to_drop\n",
        "\n",
        "# Get the columns to drop from train_data\n",
        "columns_to_drop_train = drop_columns_with_missing_values(train_data)\n",
        "\n",
        "# Drop the same columns from train_data\n",
        "train_data = train_data.drop(columns=columns_to_drop_train)\n",
        "\n",
        "# Drop the same columns from test_data\n",
        "test_data = test_data.drop(columns=columns_to_drop_train)"
      ],
      "metadata": {
        "id": "akpifhyMxvEr"
      },
      "execution_count": 38,
      "outputs": []
    },
    {
      "cell_type": "code",
      "source": [
        "X_train = train_data.drop(['Target'], axis=1)\n",
        "y_train = train_data['Target']\n",
        "X_test = test_data"
      ],
      "metadata": {
        "id": "vSNfID467d5s"
      },
      "execution_count": 39,
      "outputs": []
    },
    {
      "cell_type": "code",
      "source": [
        "\n",
        "from sklearn.impute import SimpleImputer\n",
        "\n",
        "# Define categorical and numerical columns\n",
        "categorical_cols = ['SoilFertilityType', 'ReservoirType', 'LandUsageType', 'CropSpeciesVariety',\n",
        "                    'FieldShadeCover', 'HasPestControl', 'ReservoirWithFilter', 'NaturalLakePresence',\n",
        "                    'HasGreenHouse', 'TaxOverdueStatus', 'AgricultureZoningCode', 'OtherZoningCode',\n",
        "                    'TypeOfIrrigationSystem', 'CropFieldConfiguration', 'FarmClassification',\n",
        "                    'HarvestProcessingType', 'FieldZoneLevel', 'FieldConstructionType']\n",
        "\n",
        "numerical_cols = ['UndergroundStorageSqft', 'WaterAccessPoints', 'WaterAccessPointsCalc',\n",
        "                  'PrimaryCropAreaSqft', 'TotalCultivatedAreaSqft', 'CultivatedAreaSqft1',\n",
        "                  'PerimeterGuardPlantsArea', 'PrimaryCropareainsqft2', 'CultivatedAndWildArea',\n",
        "                  'TotalAreaSqft', 'NationalRegionCode', 'NumberGreenHouses', 'MainIrrigationSystemCount',\n",
        "                  'FarmVehicleCount', 'FarmEquipmentArea', 'Latitude', 'Longitude', 'FieldSizeSqft',\n",
        "                  'WaterReservoirCount', 'TotalReservoirSize', 'StorageAndFacilityCount',\n",
        "                  'PartialIrrigationSystemCount', 'FarmingUnitCount', 'FarmShedAreaSqft',\n",
        "                  'HarvestStorageSqft', 'FieldEstablishedYear', 'NumberOfFarmingZones', 'TaxAgrarianValue',\n",
        "                  'TaxLandValue', 'TotalValue', 'TotalTaxAssessed', 'ValuationYear', 'TaxOverdueYear']\n",
        "\n",
        "# Update numerical and categorical column lists after dropping columns with missing values\n",
        "numerical_cols = [col for col in numerical_cols if col in X_train.columns]\n",
        "categorical_cols = [col for col in categorical_cols if col in X_train.columns]\n",
        "\n",
        "# Impute categorical features with the most frequent value (mode) from the training data\n",
        "categorical_imputer = SimpleImputer(strategy='most_frequent')\n",
        "X_train[categorical_cols] = categorical_imputer.fit_transform(X_train[categorical_cols])\n",
        "\n",
        "# Impute numerical features with the mean from the training data\n",
        "numerical_imputer = SimpleImputer(strategy='mean')\n",
        "X_train[numerical_cols] = numerical_imputer.fit_transform(X_train[numerical_cols])\n",
        "\n",
        "# Now use the same imputers to transform X_test\n",
        "X_test[categorical_cols] = categorical_imputer.transform(X_test[categorical_cols])\n",
        "X_test[numerical_cols] = numerical_imputer.transform(X_test[numerical_cols])\n",
        "\n"
      ],
      "metadata": {
        "id": "2F6OWiW_yRMR"
      },
      "execution_count": 40,
      "outputs": []
    },
    {
      "cell_type": "code",
      "source": [
        "from xgboost import XGBClassifier\n",
        "import numpy as np\n",
        "from sklearn.utils.class_weight import compute_class_weight\n",
        "\n",
        "# Compute class weights\n",
        "class_weights = compute_class_weight('balanced', classes=np.array([0, 1, 2]), y=y_train)\n",
        "class_weights_dict = {i: weight for i, weight in enumerate(class_weights)}\n",
        "\n",
        "# Convert class weights to sample weights for each instance in y_train\n",
        "sample_weights = y_train.map(class_weights_dict).values\n",
        "\n",
        "# Create and fit the XGBoost model with sample weights\n",
        "model = XGBClassifier(objective='multi:softmax', num_class=3)\n",
        "model.fit(X_train, y_train, sample_weight=sample_weights)\n",
        "\n",
        "# Make predictions on X_test\n",
        "y_pred = model.predict(X_test)\n"
      ],
      "metadata": {
        "id": "VQyO-ICA9Q6u"
      },
      "execution_count": 41,
      "outputs": []
    },
    {
      "cell_type": "code",
      "source": [
        "\n",
        "target_mapping = {0:'low',1: 'medium' , 2:'high'}\n",
        "y_pred = pd.Series(y_pred)\n",
        "\n",
        "y_pred= y_pred.map(target_mapping)"
      ],
      "metadata": {
        "id": "l4_Srd6b-BuK"
      },
      "execution_count": 42,
      "outputs": []
    },
    {
      "cell_type": "code",
      "source": [
        "uid_column = X_test['UID']  # Assuming 'UID' is a column in X_test\n",
        "\n",
        "# Combine UID with the predicted labels y_pred\n",
        "results = pd.DataFrame({'UID': uid_column, 'Target': y_pred})\n",
        "\n",
        "# Save to CSV file\n",
        "results.to_csv('predictions.csv', index=False)\n",
        "\n"
      ],
      "metadata": {
        "id": "3jFCRaSG91L6"
      },
      "execution_count": 43,
      "outputs": []
    }
  ]
}